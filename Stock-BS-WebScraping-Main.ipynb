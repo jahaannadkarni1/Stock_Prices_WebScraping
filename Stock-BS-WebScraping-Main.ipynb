{
 "cells": [
  {
   "cell_type": "code",
   "execution_count": 1,
   "metadata": {},
   "outputs": [],
   "source": [
    "import requests\n",
    "from bs4 import BeautifulSoup as bs\n",
    "import pandas as pd\n",
    "import numpy as np\n",
    "import matplotlib.pyplot as plt\n",
    "%matplotlib inline"
   ]
  },
  {
   "cell_type": "code",
   "execution_count": 2,
   "metadata": {},
   "outputs": [],
   "source": [
    "def get_url(url):\n",
    "    r = requests.get(url)\n",
    "    soup = bs(r.content,'html.parser')\n",
    "    return soup"
   ]
  },
  {
   "cell_type": "code",
   "execution_count": 3,
   "metadata": {},
   "outputs": [],
   "source": [
    "url = \"https://www.dogsofthedow.com/largest-companies-by-market-cap.htm\"\n",
    "\n",
    "soup = get_url(url)"
   ]
  },
  {
   "cell_type": "code",
   "execution_count": 4,
   "metadata": {},
   "outputs": [],
   "source": [
    "def get_quote():\n",
    "    stock_quotes = []\n",
    "    for i in soup.select('tbody a')[:-1]:\n",
    "        stock_quotes.append(i.get_text().strip().replace('.','-'))\n",
    "    return stock_quotes"
   ]
  },
  {
   "cell_type": "code",
   "execution_count": 5,
   "metadata": {
    "scrolled": true
   },
   "outputs": [
    {
     "data": {
      "text/plain": [
       "['AAPL', 'MSFT', 'AMZN', 'GOOGL', 'FB', 'TSLA', 'BABA', 'BRK-A', 'TSM', 'V']"
      ]
     },
     "execution_count": 5,
     "metadata": {},
     "output_type": "execute_result"
    }
   ],
   "source": [
    "get_quote()[:10]"
   ]
  },
  {
   "cell_type": "code",
   "execution_count": 6,
   "metadata": {},
   "outputs": [],
   "source": [
    "def get_companyname():\n",
    "    company_name = []\n",
    "    for i in soup.select('tbody .column-2')[:-2]:\n",
    "        company_name.append(i.get_text().strip())\n",
    "    return company_name"
   ]
  },
  {
   "cell_type": "code",
   "execution_count": 7,
   "metadata": {
    "scrolled": true
   },
   "outputs": [
    {
     "data": {
      "text/plain": [
       "['Apple',\n",
       " 'Microsoft',\n",
       " 'Amazon',\n",
       " 'Alphabet',\n",
       " 'Facebook',\n",
       " 'Tesla',\n",
       " 'Alibaba',\n",
       " 'Berkshire Hathaway',\n",
       " 'Taiwan Semiconductor',\n",
       " 'Visa']"
      ]
     },
     "execution_count": 7,
     "metadata": {},
     "output_type": "execute_result"
    }
   ],
   "source": [
    "get_companyname()[:10]"
   ]
  },
  {
   "cell_type": "code",
   "execution_count": 8,
   "metadata": {},
   "outputs": [],
   "source": [
    "ticker_company = {get_quote()[i]:get_companyname()[i] for i in range(len(get_quote()))}"
   ]
  },
  {
   "cell_type": "code",
   "execution_count": 12,
   "metadata": {
    "scrolled": true
   },
   "outputs": [
    {
     "data": {
      "text/plain": [
       "{'AAPL': 'Apple',\n",
       " 'MSFT': 'Microsoft',\n",
       " 'AMZN': 'Amazon',\n",
       " 'GOOGL': 'Alphabet',\n",
       " 'FB': 'Facebook',\n",
       " 'TSLA': 'Tesla',\n",
       " 'BABA': 'Alibaba',\n",
       " 'BRK-A': 'Berkshire Hathaway',\n",
       " 'TSM': 'Taiwan Semiconductor',\n",
       " 'V': 'Visa',\n",
       " 'JPM': 'JPMorgan Chase',\n",
       " 'JNJ': 'Johnson & Johnson',\n",
       " 'MA': 'Mastercard',\n",
       " 'WMT': 'Walmart',\n",
       " 'DIS': 'Disney',\n",
       " 'UNH': 'UnitedHealth',\n",
       " 'BAC': 'Bank of America',\n",
       " 'PG': 'Procter & Gamble',\n",
       " 'NVDA': 'NVIDIA',\n",
       " 'HD': 'Home Depot',\n",
       " 'PYPL': 'PayPal',\n",
       " 'EDU': 'New Oriental Education & Technology',\n",
       " 'CMCSA': 'Comcast',\n",
       " 'XOM': 'ExxonMobil',\n",
       " 'INTC': 'Intel',\n",
       " 'VZ': 'Verizon',\n",
       " 'NFLX': 'Netflix',\n",
       " 'KO': 'Coca-Cola',\n",
       " 'ASML': 'ASML',\n",
       " 'NKE': 'Nike',\n",
       " 'CVX': 'Chevron',\n",
       " 'T': 'AT&T',\n",
       " 'TM': 'Toyota',\n",
       " 'ORCL': 'Oracle',\n",
       " 'ADBE': 'Adobe',\n",
       " 'ABT': 'Abbott Laboratories',\n",
       " 'CSCO': 'Cisco Systems',\n",
       " 'LLY': 'Eli Lilly',\n",
       " 'PFE': 'Pfizer',\n",
       " 'CRM': 'Salesforce',\n",
       " 'ABBV': 'AbbVie',\n",
       " 'NVS': 'Novartis AG',\n",
       " 'MRK': 'Merck',\n",
       " 'PEP': 'Pepsi',\n",
       " 'PDD': 'Pinduoduo',\n",
       " 'AVGO': 'Broadcom',\n",
       " 'TMO': 'Thermo Fisher Scientific',\n",
       " 'ACN': 'Accenture',\n",
       " 'RDS-A': 'Royal Dutch Shell',\n",
       " 'WFC': 'Wells Fargo'}"
      ]
     },
     "execution_count": 12,
     "metadata": {},
     "output_type": "execute_result"
    }
   ],
   "source": [
    "ticker_company"
   ]
  },
  {
   "cell_type": "code",
   "execution_count": 13,
   "metadata": {},
   "outputs": [],
   "source": [
    "stock_dict = {}\n",
    "def get_stocks(): \n",
    "              \n",
    "    for i in get_quote():\n",
    "        stock_url = 'https://query1.finance.yahoo.com/v7/finance/download/{}?'\n",
    "\n",
    "        params = { 'range' : '5y',\n",
    "               'interval' : '1d',\n",
    "              'events' : 'history',\n",
    "                'includeAdjustedClose' : 'true'}\n",
    "        stock_dict[i] = requests.get(stock_url.format(i),params=params).text.split('\\n')\n",
    "    return stock_dict"
   ]
  },
  {
   "cell_type": "code",
   "execution_count": 14,
   "metadata": {},
   "outputs": [
    {
     "data": {
      "text/plain": [
       "['Date,Open,High,Low,Close,Adj Close,Volume',\n",
       " '2016-03-14,25.477501,25.727501,25.445000,25.629999,23.838688,100304400',\n",
       " '2016-03-15,25.990000,26.295000,25.962500,26.145000,24.317701,160270800',\n",
       " '2016-03-16,26.152500,26.577499,26.147499,26.492500,24.640911,153214000',\n",
       " '2016-03-17,26.379999,26.617500,26.240000,26.450001,24.601379,137682800']"
      ]
     },
     "execution_count": 14,
     "metadata": {},
     "output_type": "execute_result"
    }
   ],
   "source": [
    "get_stocks()['AAPL'][:5]"
   ]
  },
  {
   "cell_type": "code",
   "execution_count": 15,
   "metadata": {},
   "outputs": [],
   "source": [
    "for i in stock_dict.keys():\n",
    "    stock_dict[i].pop(0)"
   ]
  },
  {
   "cell_type": "code",
   "execution_count": 16,
   "metadata": {},
   "outputs": [],
   "source": [
    "first_clean = [[[i+','+j] for i in stock_dict[j]] for j in stock_dict.keys()]"
   ]
  },
  {
   "cell_type": "code",
   "execution_count": 17,
   "metadata": {},
   "outputs": [],
   "source": [
    "data_flatten = [k.split(',') for i in first_clean for j in i for k in j]"
   ]
  },
  {
   "cell_type": "code",
   "execution_count": 18,
   "metadata": {},
   "outputs": [
    {
     "data": {
      "text/plain": [
       "[['2016-03-14',\n",
       "  '25.477501',\n",
       "  '25.727501',\n",
       "  '25.445000',\n",
       "  '25.629999',\n",
       "  '23.838688',\n",
       "  '100304400',\n",
       "  'AAPL'],\n",
       " ['2016-03-15',\n",
       "  '25.990000',\n",
       "  '26.295000',\n",
       "  '25.962500',\n",
       "  '26.145000',\n",
       "  '24.317701',\n",
       "  '160270800',\n",
       "  'AAPL'],\n",
       " ['2016-03-16',\n",
       "  '26.152500',\n",
       "  '26.577499',\n",
       "  '26.147499',\n",
       "  '26.492500',\n",
       "  '24.640911',\n",
       "  '153214000',\n",
       "  'AAPL'],\n",
       " ['2016-03-17',\n",
       "  '26.379999',\n",
       "  '26.617500',\n",
       "  '26.240000',\n",
       "  '26.450001',\n",
       "  '24.601379',\n",
       "  '137682800',\n",
       "  'AAPL'],\n",
       " ['2016-03-18',\n",
       "  '26.584999',\n",
       "  '26.625000',\n",
       "  '26.297501',\n",
       "  '26.480000',\n",
       "  '24.629284',\n",
       "  '176820800',\n",
       "  'AAPL']]"
      ]
     },
     "execution_count": 18,
     "metadata": {},
     "output_type": "execute_result"
    }
   ],
   "source": [
    "data_flatten[:5]"
   ]
  },
  {
   "cell_type": "code",
   "execution_count": 19,
   "metadata": {},
   "outputs": [
    {
     "data": {
      "text/plain": [
       "62303"
      ]
     },
     "execution_count": 19,
     "metadata": {},
     "output_type": "execute_result"
    }
   ],
   "source": [
    "len(data_flatten)"
   ]
  },
  {
   "cell_type": "code",
   "execution_count": 20,
   "metadata": {},
   "outputs": [],
   "source": [
    "colum = ['Date,Open,High,Low,Close,Adj Close,Volume'][0].split(',') + ['Company']"
   ]
  },
  {
   "cell_type": "code",
   "execution_count": 27,
   "metadata": {},
   "outputs": [],
   "source": [
    "df = pd.DataFrame(data=data_flatten,columns=colum)"
   ]
  },
  {
   "cell_type": "code",
   "execution_count": 28,
   "metadata": {},
   "outputs": [],
   "source": [
    "df['Date'] = df['Date'].apply(lambda x : x.replace('-',''))\n",
    "df['Date'] = pd.to_datetime(df['Date'], format='%Y%m%d')\n",
    "df.set_index('Date',inplace=True)"
   ]
  },
  {
   "cell_type": "code",
   "execution_count": 29,
   "metadata": {},
   "outputs": [
    {
     "data": {
      "text/html": [
       "<div>\n",
       "<style scoped>\n",
       "    .dataframe tbody tr th:only-of-type {\n",
       "        vertical-align: middle;\n",
       "    }\n",
       "\n",
       "    .dataframe tbody tr th {\n",
       "        vertical-align: top;\n",
       "    }\n",
       "\n",
       "    .dataframe thead th {\n",
       "        text-align: right;\n",
       "    }\n",
       "</style>\n",
       "<table border=\"1\" class=\"dataframe\">\n",
       "  <thead>\n",
       "    <tr style=\"text-align: right;\">\n",
       "      <th></th>\n",
       "      <th>Open</th>\n",
       "      <th>High</th>\n",
       "      <th>Low</th>\n",
       "      <th>Close</th>\n",
       "      <th>Adj Close</th>\n",
       "      <th>Volume</th>\n",
       "      <th>Company</th>\n",
       "    </tr>\n",
       "    <tr>\n",
       "      <th>Date</th>\n",
       "      <th></th>\n",
       "      <th></th>\n",
       "      <th></th>\n",
       "      <th></th>\n",
       "      <th></th>\n",
       "      <th></th>\n",
       "      <th></th>\n",
       "    </tr>\n",
       "  </thead>\n",
       "  <tbody>\n",
       "    <tr>\n",
       "      <th>2016-03-07</th>\n",
       "      <td>25.597500</td>\n",
       "      <td>25.707500</td>\n",
       "      <td>25.240000</td>\n",
       "      <td>25.467501</td>\n",
       "      <td>23.687551</td>\n",
       "      <td>143315600</td>\n",
       "      <td>AAPL</td>\n",
       "    </tr>\n",
       "    <tr>\n",
       "      <th>2016-03-08</th>\n",
       "      <td>25.195000</td>\n",
       "      <td>25.440001</td>\n",
       "      <td>25.100000</td>\n",
       "      <td>25.257500</td>\n",
       "      <td>23.492224</td>\n",
       "      <td>126247600</td>\n",
       "      <td>AAPL</td>\n",
       "    </tr>\n",
       "    <tr>\n",
       "      <th>2016-03-09</th>\n",
       "      <td>25.327499</td>\n",
       "      <td>25.395000</td>\n",
       "      <td>25.067499</td>\n",
       "      <td>25.280001</td>\n",
       "      <td>23.513155</td>\n",
       "      <td>108806800</td>\n",
       "      <td>AAPL</td>\n",
       "    </tr>\n",
       "    <tr>\n",
       "      <th>2016-03-10</th>\n",
       "      <td>25.352501</td>\n",
       "      <td>25.559999</td>\n",
       "      <td>25.037500</td>\n",
       "      <td>25.292500</td>\n",
       "      <td>23.524775</td>\n",
       "      <td>134054400</td>\n",
       "      <td>AAPL</td>\n",
       "    </tr>\n",
       "    <tr>\n",
       "      <th>2016-03-11</th>\n",
       "      <td>25.559999</td>\n",
       "      <td>25.570000</td>\n",
       "      <td>25.375000</td>\n",
       "      <td>25.565001</td>\n",
       "      <td>23.778234</td>\n",
       "      <td>109632800</td>\n",
       "      <td>AAPL</td>\n",
       "    </tr>\n",
       "  </tbody>\n",
       "</table>\n",
       "</div>"
      ],
      "text/plain": [
       "                 Open       High        Low      Close  Adj Close     Volume  \\\n",
       "Date                                                                           \n",
       "2016-03-07  25.597500  25.707500  25.240000  25.467501  23.687551  143315600   \n",
       "2016-03-08  25.195000  25.440001  25.100000  25.257500  23.492224  126247600   \n",
       "2016-03-09  25.327499  25.395000  25.067499  25.280001  23.513155  108806800   \n",
       "2016-03-10  25.352501  25.559999  25.037500  25.292500  23.524775  134054400   \n",
       "2016-03-11  25.559999  25.570000  25.375000  25.565001  23.778234  109632800   \n",
       "\n",
       "           Company  \n",
       "Date                \n",
       "2016-03-07    AAPL  \n",
       "2016-03-08    AAPL  \n",
       "2016-03-09    AAPL  \n",
       "2016-03-10    AAPL  \n",
       "2016-03-11    AAPL  "
      ]
     },
     "execution_count": 29,
     "metadata": {},
     "output_type": "execute_result"
    }
   ],
   "source": [
    "df.head()"
   ]
  },
  {
   "cell_type": "code",
   "execution_count": 30,
   "metadata": {},
   "outputs": [],
   "source": [
    "df.to_csv('stockPriceXL-NEW.csv')"
   ]
  },
  {
   "cell_type": "code",
   "execution_count": 31,
   "metadata": {},
   "outputs": [],
   "source": [
    "for i in df.columns[:-1]:\n",
    "    df[i] = df[i].astype(float)"
   ]
  },
  {
   "cell_type": "raw",
   "metadata": {
    "scrolled": true
   },
   "source": [
    "\n",
    "for i in list(ticker_company.keys()):\n",
    "    plt.figure(figsize=(7,5))\n",
    "    plt.plot(df.loc[df['Company']==i]['Open'])\n",
    "    plt.title(f'{ticker_company[i]} - Open')\n",
    "    plt.xlabel('Date')\n",
    "    plt.ylabel('Price(in $)')\n",
    "\n",
    "plt.show()"
   ]
  },
  {
   "cell_type": "code",
   "execution_count": 32,
   "metadata": {},
   "outputs": [
    {
     "name": "stdout",
     "output_type": "stream",
     "text": [
      "Collecting fbprophet\n",
      "  Using cached fbprophet-0.7.1.tar.gz (64 kB)\n",
      "Requirement already satisfied: Cython>=0.22 in c:\\python\\python386\\lib\\site-packages (from fbprophet) (0.29.22)\n",
      "Requirement already satisfied: cmdstanpy==0.9.5 in c:\\python\\python386\\lib\\site-packages (from fbprophet) (0.9.5)\n",
      "Requirement already satisfied: pystan>=2.14 in c:\\python\\python386\\lib\\site-packages (from fbprophet) (2.19.1.1)\n",
      "Requirement already satisfied: numpy>=1.15.4 in c:\\python\\python386\\lib\\site-packages (from fbprophet) (1.19.3)\n",
      "Requirement already satisfied: pandas>=1.0.4 in c:\\python\\python386\\lib\\site-packages (from fbprophet) (1.1.4)\n",
      "Requirement already satisfied: matplotlib>=2.0.0 in c:\\python\\python386\\lib\\site-packages (from fbprophet) (3.3.3)\n",
      "Requirement already satisfied: LunarCalendar>=0.0.9 in c:\\python\\python386\\lib\\site-packages (from fbprophet) (0.0.9)\n",
      "Requirement already satisfied: convertdate>=2.1.2 in c:\\python\\python386\\lib\\site-packages (from fbprophet) (2.3.1)\n",
      "Requirement already satisfied: holidays>=0.10.2 in c:\\python\\python386\\lib\\site-packages (from fbprophet) (0.10.5.2)\n",
      "Requirement already satisfied: setuptools-git>=1.2 in c:\\python\\python386\\lib\\site-packages (from fbprophet) (1.2)\n",
      "Requirement already satisfied: python-dateutil>=2.8.0 in c:\\python\\python386\\lib\\site-packages (from fbprophet) (2.8.1)\n",
      "Requirement already satisfied: tqdm>=4.36.1 in c:\\python\\python386\\lib\\site-packages (from fbprophet) (4.57.0)\n",
      "Requirement already satisfied: pymeeus!=0.3.8,<=1,>=0.3.6 in c:\\python\\python386\\lib\\site-packages (from convertdate>=2.1.2->fbprophet) (0.5.5)\n",
      "Requirement already satisfied: pytz>=2014.10 in c:\\python\\python386\\lib\\site-packages (from convertdate>=2.1.2->fbprophet) (2020.4)\n",
      "Requirement already satisfied: six in c:\\python\\python386\\lib\\site-packages (from holidays>=0.10.2->fbprophet) (1.15.0)\n",
      "Requirement already satisfied: korean_lunar_calendar in c:\\python\\python386\\lib\\site-packages (from holidays>=0.10.2->fbprophet) (0.2.1)\n",
      "Requirement already satisfied: hijri_converter in c:\\python\\python386\\lib\\site-packages (from holidays>=0.10.2->fbprophet) (2.1.1)\n",
      "Requirement already satisfied: ephem>=3.7.5.3 in c:\\python\\python386\\lib\\site-packages (from LunarCalendar>=0.0.9->fbprophet) (3.7.7.1)\n",
      "Requirement already satisfied: cycler>=0.10 in c:\\python\\python386\\lib\\site-packages (from matplotlib>=2.0.0->fbprophet) (0.10.0)\n",
      "Requirement already satisfied: kiwisolver>=1.0.1 in c:\\python\\python386\\lib\\site-packages (from matplotlib>=2.0.0->fbprophet) (1.3.1)\n",
      "Requirement already satisfied: pillow>=6.2.0 in c:\\python\\python386\\lib\\site-packages (from matplotlib>=2.0.0->fbprophet) (8.0.1)\n",
      "Requirement already satisfied: pyparsing!=2.0.4,!=2.1.2,!=2.1.6,>=2.0.3 in c:\\python\\python386\\lib\\site-packages (from matplotlib>=2.0.0->fbprophet) (2.4.7)\n",
      "Using legacy 'setup.py install' for fbprophet, since package 'wheel' is not installed.\n",
      "Installing collected packages: fbprophet\n",
      "    Running setup.py install for fbprophet: started\n",
      "    Running setup.py install for fbprophet: finished with status 'error'\n"
     ]
    },
    {
     "name": "stderr",
     "output_type": "stream",
     "text": [
      "    ERROR: Command errored out with exit status 1:\n",
      "     command: 'c:\\python\\python386\\python.exe' -u -c 'import sys, setuptools, tokenize; sys.argv[0] = '\"'\"'C:\\\\Users\\\\Jahaan Nadkarni\\\\AppData\\\\Local\\\\Temp\\\\pip-install-ylm3p26i\\\\fbprophet_90d3e11c5bd942dfa39e4b2c7e14bef5\\\\setup.py'\"'\"'; __file__='\"'\"'C:\\\\Users\\\\Jahaan Nadkarni\\\\AppData\\\\Local\\\\Temp\\\\pip-install-ylm3p26i\\\\fbprophet_90d3e11c5bd942dfa39e4b2c7e14bef5\\\\setup.py'\"'\"';f=getattr(tokenize, '\"'\"'open'\"'\"', open)(__file__);code=f.read().replace('\"'\"'\\r\\n'\"'\"', '\"'\"'\\n'\"'\"');f.close();exec(compile(code, __file__, '\"'\"'exec'\"'\"'))' install --record 'C:\\Users\\Jahaan Nadkarni\\AppData\\Local\\Temp\\pip-record-ferz60ji\\install-record.txt' --single-version-externally-managed --compile --install-headers 'c:\\python\\python386\\Include\\fbprophet'\n",
      "         cwd: C:\\Users\\Jahaan Nadkarni\\AppData\\Local\\Temp\\pip-install-ylm3p26i\\fbprophet_90d3e11c5bd942dfa39e4b2c7e14bef5\\\n",
      "    Complete output (45 lines):\n",
      "    running install\n",
      "    running build\n",
      "    running build_py\n",
      "    creating build\n",
      "    creating build\\lib\n",
      "    creating build\\lib\\fbprophet\n",
      "    creating build\\lib\\fbprophet\\stan_model\n",
      "    Importing plotly failed. Interactive plots will not work.\n",
      "    Traceback (most recent call last):\n",
      "      File \"<string>\", line 1, in <module>\n",
      "      File \"C:\\Users\\Jahaan Nadkarni\\AppData\\Local\\Temp\\pip-install-ylm3p26i\\fbprophet_90d3e11c5bd942dfa39e4b2c7e14bef5\\setup.py\", line 122, in <module>\n",
      "        setup(\n",
      "      File \"c:\\python\\python386\\lib\\site-packages\\setuptools\\__init__.py\", line 165, in setup\n",
      "        return distutils.core.setup(**attrs)\n",
      "      File \"c:\\python\\python386\\lib\\distutils\\core.py\", line 148, in setup\n",
      "        dist.run_commands()\n",
      "      File \"c:\\python\\python386\\lib\\distutils\\dist.py\", line 966, in run_commands\n",
      "        self.run_command(cmd)\n",
      "      File \"c:\\python\\python386\\lib\\distutils\\dist.py\", line 985, in run_command\n",
      "        cmd_obj.run()\n",
      "      File \"c:\\python\\python386\\lib\\site-packages\\setuptools\\command\\install.py\", line 61, in run\n",
      "        return orig.install.run(self)\n",
      "      File \"c:\\python\\python386\\lib\\distutils\\command\\install.py\", line 545, in run\n",
      "        self.run_command('build')\n",
      "      File \"c:\\python\\python386\\lib\\distutils\\cmd.py\", line 313, in run_command\n",
      "        self.distribution.run_command(command)\n",
      "      File \"c:\\python\\python386\\lib\\distutils\\dist.py\", line 985, in run_command\n",
      "        cmd_obj.run()\n",
      "      File \"c:\\python\\python386\\lib\\distutils\\command\\build.py\", line 135, in run\n",
      "        self.run_command(cmd_name)\n",
      "      File \"c:\\python\\python386\\lib\\distutils\\cmd.py\", line 313, in run_command\n",
      "        self.distribution.run_command(command)\n",
      "      File \"c:\\python\\python386\\lib\\distutils\\dist.py\", line 985, in run_command\n",
      "        cmd_obj.run()\n",
      "      File \"C:\\Users\\Jahaan Nadkarni\\AppData\\Local\\Temp\\pip-install-ylm3p26i\\fbprophet_90d3e11c5bd942dfa39e4b2c7e14bef5\\setup.py\", line 48, in run\n",
      "        build_models(target_dir)\n",
      "      File \"C:\\Users\\Jahaan Nadkarni\\AppData\\Local\\Temp\\pip-install-ylm3p26i\\fbprophet_90d3e11c5bd942dfa39e4b2c7e14bef5\\setup.py\", line 38, in build_models\n",
      "        StanBackendEnum.get_backend_class(backend).build_model(target_dir, MODEL_DIR)\n",
      "      File \"C:\\Users\\Jahaan Nadkarni\\AppData\\Local\\Temp\\pip-install-ylm3p26i\\fbprophet_90d3e11c5bd942dfa39e4b2c7e14bef5\\fbprophet\\models.py\", line 209, in build_model\n",
      "        import pystan\n",
      "      File \"c:\\python\\python386\\lib\\site-packages\\pystan\\__init__.py\", line 9, in <module>\n",
      "        from pystan.api import stanc, stan\n",
      "      File \"c:\\python\\python386\\lib\\site-packages\\pystan\\api.py\", line 13, in <module>\n",
      "        import pystan._api  # stanc wrapper\n",
      "    ImportError: DLL load failed while importing _api: The specified module could not be found.\n",
      "    ----------------------------------------\n",
      "ERROR: Command errored out with exit status 1: 'c:\\python\\python386\\python.exe' -u -c 'import sys, setuptools, tokenize; sys.argv[0] = '\"'\"'C:\\\\Users\\\\Jahaan Nadkarni\\\\AppData\\\\Local\\\\Temp\\\\pip-install-ylm3p26i\\\\fbprophet_90d3e11c5bd942dfa39e4b2c7e14bef5\\\\setup.py'\"'\"'; __file__='\"'\"'C:\\\\Users\\\\Jahaan Nadkarni\\\\AppData\\\\Local\\\\Temp\\\\pip-install-ylm3p26i\\\\fbprophet_90d3e11c5bd942dfa39e4b2c7e14bef5\\\\setup.py'\"'\"';f=getattr(tokenize, '\"'\"'open'\"'\"', open)(__file__);code=f.read().replace('\"'\"'\\r\\n'\"'\"', '\"'\"'\\n'\"'\"');f.close();exec(compile(code, __file__, '\"'\"'exec'\"'\"'))' install --record 'C:\\Users\\Jahaan Nadkarni\\AppData\\Local\\Temp\\pip-record-ferz60ji\\install-record.txt' --single-version-externally-managed --compile --install-headers 'c:\\python\\python386\\Include\\fbprophet' Check the logs for full command output.\n"
     ]
    }
   ],
   "source": [
    "!pip install fbprophet"
   ]
  },
  {
   "cell_type": "code",
   "execution_count": null,
   "metadata": {},
   "outputs": [],
   "source": []
  },
  {
   "cell_type": "code",
   "execution_count": null,
   "metadata": {},
   "outputs": [],
   "source": []
  },
  {
   "cell_type": "code",
   "execution_count": null,
   "metadata": {},
   "outputs": [],
   "source": []
  },
  {
   "cell_type": "code",
   "execution_count": null,
   "metadata": {},
   "outputs": [],
   "source": []
  },
  {
   "cell_type": "code",
   "execution_count": null,
   "metadata": {},
   "outputs": [],
   "source": []
  },
  {
   "cell_type": "code",
   "execution_count": null,
   "metadata": {},
   "outputs": [],
   "source": []
  },
  {
   "cell_type": "code",
   "execution_count": null,
   "metadata": {},
   "outputs": [],
   "source": []
  },
  {
   "cell_type": "code",
   "execution_count": null,
   "metadata": {},
   "outputs": [],
   "source": []
  },
  {
   "cell_type": "code",
   "execution_count": null,
   "metadata": {},
   "outputs": [],
   "source": []
  },
  {
   "cell_type": "code",
   "execution_count": null,
   "metadata": {},
   "outputs": [],
   "source": []
  },
  {
   "cell_type": "code",
   "execution_count": null,
   "metadata": {},
   "outputs": [],
   "source": []
  },
  {
   "cell_type": "code",
   "execution_count": null,
   "metadata": {},
   "outputs": [],
   "source": []
  },
  {
   "cell_type": "code",
   "execution_count": null,
   "metadata": {},
   "outputs": [],
   "source": []
  },
  {
   "cell_type": "code",
   "execution_count": null,
   "metadata": {},
   "outputs": [],
   "source": []
  },
  {
   "cell_type": "code",
   "execution_count": null,
   "metadata": {},
   "outputs": [],
   "source": []
  },
  {
   "cell_type": "code",
   "execution_count": null,
   "metadata": {},
   "outputs": [],
   "source": []
  },
  {
   "cell_type": "raw",
   "metadata": {},
   "source": [
    "import datetime\n",
    "\n"
   ]
  },
  {
   "cell_type": "raw",
   "metadata": {},
   "source": [
    "# Split Data 5 days before the end date\n",
    "import datetime\n",
    "\n",
    "new_df = df.loc[df.index <= (df.index.max()-datetime.timedelta(5))]"
   ]
  },
  {
   "cell_type": "raw",
   "metadata": {},
   "source": [
    "new_df"
   ]
  },
  {
   "cell_type": "raw",
   "metadata": {},
   "source": [
    "# train_test_split using sklearn\n",
    "\n",
    "from sklearn.model_selection import train_test_split\n",
    "x_train,x_test = train_test_split(new_df.loc[new_df['Company']=='MSFT'])"
   ]
  },
  {
   "cell_type": "raw",
   "metadata": {},
   "source": [
    "x_train[x_train.columns[:6]]"
   ]
  },
  {
   "cell_type": "raw",
   "metadata": {},
   "source": [
    "from sklearn.linear_model import LinearRegression\n",
    "\n",
    "lin_reg = LinearRegression()\n",
    "prices_msft = lin_reg.fit(x_train[])"
   ]
  }
 ],
 "metadata": {
  "kernelspec": {
   "display_name": "Python 3",
   "language": "python",
   "name": "python3"
  },
  "language_info": {
   "codemirror_mode": {
    "name": "ipython",
    "version": 3
   },
   "file_extension": ".py",
   "mimetype": "text/x-python",
   "name": "python",
   "nbconvert_exporter": "python",
   "pygments_lexer": "ipython3",
   "version": "3.8.6"
  }
 },
 "nbformat": 4,
 "nbformat_minor": 4
}
