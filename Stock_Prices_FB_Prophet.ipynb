{
  "nbformat": 4,
  "nbformat_minor": 0,
  "metadata": {
    "colab": {
      "name": "Stock-Prices-FB Prophet",
      "provenance": [],
      "collapsed_sections": [],
      "authorship_tag": "ABX9TyPVbEXeOwwsjoGijRgoylwk",
      "include_colab_link": true
    },
    "kernelspec": {
      "name": "python3",
      "display_name": "Python 3"
    }
  },
  "cells": [
    {
      "cell_type": "markdown",
      "metadata": {
        "id": "view-in-github",
        "colab_type": "text"
      },
      "source": [
        "<a href=\"https://colab.research.google.com/github/jahaannadkarni1/Stock_Prices_WebScraping/blob/main/Stock_Prices_FB_Prophet.ipynb\" target=\"_parent\"><img src=\"https://colab.research.google.com/assets/colab-badge.svg\" alt=\"Open In Colab\"/></a>"
      ]
    },
    {
      "cell_type": "code",
      "metadata": {
        "colab": {
          "base_uri": "https://localhost:8080/"
        },
        "id": "UV7FIqNiiqqo",
        "outputId": "922b8a50-20af-4dce-88f9-888ba32f4e9b"
      },
      "source": [
        "!pip install pystan fbprophet"
      ],
      "execution_count": 1,
      "outputs": [
        {
          "output_type": "stream",
          "text": [
            "Requirement already satisfied: pystan in /usr/local/lib/python3.7/dist-packages (2.19.1.1)\n",
            "Requirement already satisfied: fbprophet in /usr/local/lib/python3.7/dist-packages (0.7.1)\n",
            "Requirement already satisfied: numpy>=1.7 in /usr/local/lib/python3.7/dist-packages (from pystan) (1.19.5)\n",
            "Requirement already satisfied: Cython!=0.25.1,>=0.22 in /usr/local/lib/python3.7/dist-packages (from pystan) (0.29.22)\n",
            "Requirement already satisfied: cmdstanpy==0.9.5 in /usr/local/lib/python3.7/dist-packages (from fbprophet) (0.9.5)\n",
            "Requirement already satisfied: pandas>=1.0.4 in /usr/local/lib/python3.7/dist-packages (from fbprophet) (1.1.5)\n",
            "Requirement already satisfied: matplotlib>=2.0.0 in /usr/local/lib/python3.7/dist-packages (from fbprophet) (3.2.2)\n",
            "Requirement already satisfied: LunarCalendar>=0.0.9 in /usr/local/lib/python3.7/dist-packages (from fbprophet) (0.0.9)\n",
            "Requirement already satisfied: convertdate>=2.1.2 in /usr/local/lib/python3.7/dist-packages (from fbprophet) (2.3.1)\n",
            "Requirement already satisfied: holidays>=0.10.2 in /usr/local/lib/python3.7/dist-packages (from fbprophet) (0.10.5.2)\n",
            "Requirement already satisfied: setuptools-git>=1.2 in /usr/local/lib/python3.7/dist-packages (from fbprophet) (1.2)\n",
            "Requirement already satisfied: python-dateutil>=2.8.0 in /usr/local/lib/python3.7/dist-packages (from fbprophet) (2.8.1)\n",
            "Requirement already satisfied: tqdm>=4.36.1 in /usr/local/lib/python3.7/dist-packages (from fbprophet) (4.41.1)\n",
            "Requirement already satisfied: pytz>=2017.2 in /usr/local/lib/python3.7/dist-packages (from pandas>=1.0.4->fbprophet) (2018.9)\n",
            "Requirement already satisfied: pyparsing!=2.0.4,!=2.1.2,!=2.1.6,>=2.0.1 in /usr/local/lib/python3.7/dist-packages (from matplotlib>=2.0.0->fbprophet) (2.4.7)\n",
            "Requirement already satisfied: cycler>=0.10 in /usr/local/lib/python3.7/dist-packages (from matplotlib>=2.0.0->fbprophet) (0.10.0)\n",
            "Requirement already satisfied: kiwisolver>=1.0.1 in /usr/local/lib/python3.7/dist-packages (from matplotlib>=2.0.0->fbprophet) (1.3.1)\n",
            "Requirement already satisfied: ephem>=3.7.5.3 in /usr/local/lib/python3.7/dist-packages (from LunarCalendar>=0.0.9->fbprophet) (3.7.7.1)\n",
            "Requirement already satisfied: pymeeus!=0.3.8,<=1,>=0.3.6 in /usr/local/lib/python3.7/dist-packages (from convertdate>=2.1.2->fbprophet) (0.5.2)\n",
            "Requirement already satisfied: six in /usr/local/lib/python3.7/dist-packages (from holidays>=0.10.2->fbprophet) (1.15.0)\n",
            "Requirement already satisfied: korean-lunar-calendar in /usr/local/lib/python3.7/dist-packages (from holidays>=0.10.2->fbprophet) (0.2.1)\n",
            "Requirement already satisfied: hijri-converter in /usr/local/lib/python3.7/dist-packages (from holidays>=0.10.2->fbprophet) (2.1.1)\n"
          ],
          "name": "stdout"
        }
      ]
    },
    {
      "cell_type": "code",
      "metadata": {
        "id": "6iPEWvnVm5WP"
      },
      "source": [
        "from fbprophet import Prophet"
      ],
      "execution_count": 2,
      "outputs": []
    },
    {
      "cell_type": "code",
      "metadata": {
        "id": "JYRT9NHwivgp"
      },
      "source": [
        "import requests\r\n",
        "from bs4 import BeautifulSoup as bs\r\n",
        "import pandas as pd\r\n",
        "import numpy as np\r\n",
        "import matplotlib.pyplot as plt\r\n",
        "%matplotlib inline"
      ],
      "execution_count": 3,
      "outputs": []
    },
    {
      "cell_type": "code",
      "metadata": {
        "id": "iBzMGOYbiv9E"
      },
      "source": [
        "def get_url(url):\r\n",
        "    r = requests.get(url)\r\n",
        "    soup = bs(r.content,'html.parser')\r\n",
        "    return soup"
      ],
      "execution_count": 4,
      "outputs": []
    },
    {
      "cell_type": "code",
      "metadata": {
        "id": "2tMp8BKEiwGU"
      },
      "source": [
        "url = \"https://www.dogsofthedow.com/largest-companies-by-market-cap.htm\"\r\n",
        "\r\n",
        "soup = get_url(url)"
      ],
      "execution_count": 5,
      "outputs": []
    },
    {
      "cell_type": "code",
      "metadata": {
        "id": "EUdFhMD-iwRL"
      },
      "source": [
        "def get_quote():\r\n",
        "    stock_quotes = []\r\n",
        "    for i in soup.select('tbody a')[:-1]:\r\n",
        "        stock_quotes.append(i.get_text().strip().replace('.','-'))\r\n",
        "    return stock_quotes"
      ],
      "execution_count": 6,
      "outputs": []
    },
    {
      "cell_type": "code",
      "metadata": {
        "colab": {
          "base_uri": "https://localhost:8080/"
        },
        "id": "Yjp0MRIjiwbF",
        "outputId": "ffc79af5-1d48-4d44-dd50-90a147702358"
      },
      "source": [
        "get_quote()"
      ],
      "execution_count": 7,
      "outputs": [
        {
          "output_type": "execute_result",
          "data": {
            "text/plain": [
              "['AAPL',\n",
              " 'MSFT',\n",
              " 'AMZN',\n",
              " 'GOOGL',\n",
              " 'FB',\n",
              " 'BABA',\n",
              " 'BRK-A',\n",
              " 'TSM',\n",
              " 'TSLA',\n",
              " 'V',\n",
              " 'JPM',\n",
              " 'JNJ',\n",
              " 'MA',\n",
              " 'DIS',\n",
              " 'WMT',\n",
              " 'UNH',\n",
              " 'BAC',\n",
              " 'PG',\n",
              " 'NVDA',\n",
              " 'HD',\n",
              " 'PYPL',\n",
              " 'XOM',\n",
              " 'CMCSA',\n",
              " 'INTC',\n",
              " 'VZ',\n",
              " 'KO',\n",
              " 'NFLX',\n",
              " 'T',\n",
              " 'ORCL',\n",
              " 'NKE',\n",
              " 'CVX',\n",
              " 'ASML',\n",
              " 'TM',\n",
              " 'ABT',\n",
              " 'ADBE',\n",
              " 'CSCO',\n",
              " 'LLY',\n",
              " 'PFE',\n",
              " 'CRM',\n",
              " 'NVS',\n",
              " 'MRK',\n",
              " 'ABBV',\n",
              " 'PEP',\n",
              " 'TMO',\n",
              " 'AVGO',\n",
              " 'PDD',\n",
              " 'RDS-A',\n",
              " 'ACN',\n",
              " 'WFC',\n",
              " 'TMUS']"
            ]
          },
          "metadata": {
            "tags": []
          },
          "execution_count": 7
        }
      ]
    },
    {
      "cell_type": "code",
      "metadata": {
        "id": "DQQkFyURiwlK"
      },
      "source": [
        "def get_companyname():\r\n",
        "    company_name = []\r\n",
        "    for i in soup.select('tbody .column-2')[:-2]:\r\n",
        "        company_name.append(i.get_text().strip())\r\n",
        "    return company_name"
      ],
      "execution_count": 8,
      "outputs": []
    },
    {
      "cell_type": "code",
      "metadata": {
        "colab": {
          "base_uri": "https://localhost:8080/"
        },
        "id": "KeFGi1gPje86",
        "outputId": "833cd666-e1a1-4b87-f8c1-a67665e25a14"
      },
      "source": [
        "get_companyname()"
      ],
      "execution_count": 9,
      "outputs": [
        {
          "output_type": "execute_result",
          "data": {
            "text/plain": [
              "['Apple',\n",
              " 'Microsoft',\n",
              " 'Amazon',\n",
              " 'Alphabet',\n",
              " 'Facebook',\n",
              " 'Alibaba',\n",
              " 'Berkshire Hathaway',\n",
              " 'Taiwan Semiconductor',\n",
              " 'Tesla',\n",
              " 'Visa',\n",
              " 'JPMorgan Chase',\n",
              " 'Johnson & Johnson',\n",
              " 'Mastercard',\n",
              " 'Disney',\n",
              " 'Walmart',\n",
              " 'UnitedHealth',\n",
              " 'Bank of America',\n",
              " 'Procter & Gamble',\n",
              " 'NVIDIA',\n",
              " 'Home Depot',\n",
              " 'PayPal',\n",
              " 'ExxonMobil',\n",
              " 'Comcast',\n",
              " 'Intel',\n",
              " 'Verizon',\n",
              " 'Coca-Cola',\n",
              " 'Netflix',\n",
              " 'AT&T',\n",
              " 'Oracle',\n",
              " 'Nike',\n",
              " 'Chevron',\n",
              " 'ASML',\n",
              " 'Toyota',\n",
              " 'Abbott Laboratories',\n",
              " 'Adobe',\n",
              " 'Cisco Systems',\n",
              " 'Eli Lilly',\n",
              " 'Pfizer',\n",
              " 'Salesforce',\n",
              " 'Novartis AG',\n",
              " 'Merck',\n",
              " 'AbbVie',\n",
              " 'Pepsi',\n",
              " 'Thermo Fisher Scientific',\n",
              " 'Broadcom',\n",
              " 'Pinduoduo',\n",
              " 'Royal Dutch Shell',\n",
              " 'Accenture',\n",
              " 'Wells Fargo',\n",
              " 'T-Mobile US']"
            ]
          },
          "metadata": {
            "tags": []
          },
          "execution_count": 9
        }
      ]
    },
    {
      "cell_type": "code",
      "metadata": {
        "id": "djyXyw-1jfJ0"
      },
      "source": [
        "ticker_company = {get_quote()[i]:get_companyname()[i] for i in range(len(get_quote()))}"
      ],
      "execution_count": 10,
      "outputs": []
    },
    {
      "cell_type": "code",
      "metadata": {
        "colab": {
          "base_uri": "https://localhost:8080/"
        },
        "id": "By6AGXfrjfV4",
        "outputId": "4ea5ee31-f20e-4298-adac-e78d4f836c1c"
      },
      "source": [
        "ticker_company"
      ],
      "execution_count": 11,
      "outputs": [
        {
          "output_type": "execute_result",
          "data": {
            "text/plain": [
              "{'AAPL': 'Apple',\n",
              " 'ABBV': 'AbbVie',\n",
              " 'ABT': 'Abbott Laboratories',\n",
              " 'ACN': 'Accenture',\n",
              " 'ADBE': 'Adobe',\n",
              " 'AMZN': 'Amazon',\n",
              " 'ASML': 'ASML',\n",
              " 'AVGO': 'Broadcom',\n",
              " 'BABA': 'Alibaba',\n",
              " 'BAC': 'Bank of America',\n",
              " 'BRK-A': 'Berkshire Hathaway',\n",
              " 'CMCSA': 'Comcast',\n",
              " 'CRM': 'Salesforce',\n",
              " 'CSCO': 'Cisco Systems',\n",
              " 'CVX': 'Chevron',\n",
              " 'DIS': 'Disney',\n",
              " 'FB': 'Facebook',\n",
              " 'GOOGL': 'Alphabet',\n",
              " 'HD': 'Home Depot',\n",
              " 'INTC': 'Intel',\n",
              " 'JNJ': 'Johnson & Johnson',\n",
              " 'JPM': 'JPMorgan Chase',\n",
              " 'KO': 'Coca-Cola',\n",
              " 'LLY': 'Eli Lilly',\n",
              " 'MA': 'Mastercard',\n",
              " 'MRK': 'Merck',\n",
              " 'MSFT': 'Microsoft',\n",
              " 'NFLX': 'Netflix',\n",
              " 'NKE': 'Nike',\n",
              " 'NVDA': 'NVIDIA',\n",
              " 'NVS': 'Novartis AG',\n",
              " 'ORCL': 'Oracle',\n",
              " 'PDD': 'Pinduoduo',\n",
              " 'PEP': 'Pepsi',\n",
              " 'PFE': 'Pfizer',\n",
              " 'PG': 'Procter & Gamble',\n",
              " 'PYPL': 'PayPal',\n",
              " 'RDS-A': 'Royal Dutch Shell',\n",
              " 'T': 'AT&T',\n",
              " 'TM': 'Toyota',\n",
              " 'TMO': 'Thermo Fisher Scientific',\n",
              " 'TMUS': 'T-Mobile US',\n",
              " 'TSLA': 'Tesla',\n",
              " 'TSM': 'Taiwan Semiconductor',\n",
              " 'UNH': 'UnitedHealth',\n",
              " 'V': 'Visa',\n",
              " 'VZ': 'Verizon',\n",
              " 'WFC': 'Wells Fargo',\n",
              " 'WMT': 'Walmart',\n",
              " 'XOM': 'ExxonMobil'}"
            ]
          },
          "metadata": {
            "tags": []
          },
          "execution_count": 11
        }
      ]
    },
    {
      "cell_type": "code",
      "metadata": {
        "id": "ppDGkIcKjfhM"
      },
      "source": [
        "stock_dict = {}\r\n",
        "def get_stocks(): \r\n",
        "              \r\n",
        "    for i in get_quote():\r\n",
        "        stock_url = 'https://query1.finance.yahoo.com/v7/finance/download/{}?'\r\n",
        "\r\n",
        "        params = { 'range' : '5y',\r\n",
        "               'interval' : '1d',\r\n",
        "              'events' : 'history',\r\n",
        "                'includeAdjustedClose' : 'true'}\r\n",
        "        stock_dict[i] = requests.get(stock_url.format(i),params=params).text.split('\\n')\r\n",
        "    return stock_dict"
      ],
      "execution_count": 12,
      "outputs": []
    },
    {
      "cell_type": "code",
      "metadata": {
        "colab": {
          "base_uri": "https://localhost:8080/"
        },
        "id": "8qnScAKqjfrc",
        "outputId": "04fccb7d-1fde-4a15-cba1-2e2807213211"
      },
      "source": [
        "get_stocks()['AAPL'][:5]"
      ],
      "execution_count": 13,
      "outputs": [
        {
          "output_type": "execute_result",
          "data": {
            "text/plain": [
              "['Date,Open,High,Low,Close,Adj Close,Volume',\n",
              " '2016-03-09,25.327499,25.395000,25.067499,25.280001,23.513155,108806800',\n",
              " '2016-03-10,25.352501,25.559999,25.037500,25.292500,23.524775,134054400',\n",
              " '2016-03-11,25.559999,25.570000,25.375000,25.565001,23.778234,109632800',\n",
              " '2016-03-14,25.477501,25.727501,25.445000,25.629999,23.838688,100304400']"
            ]
          },
          "metadata": {
            "tags": []
          },
          "execution_count": 13
        }
      ]
    },
    {
      "cell_type": "code",
      "metadata": {
        "id": "aa2cxhVOjf05"
      },
      "source": [
        "for i in stock_dict.keys():\r\n",
        "    stock_dict[i].pop(0)"
      ],
      "execution_count": 14,
      "outputs": []
    },
    {
      "cell_type": "code",
      "metadata": {
        "id": "qvpQ7tidjf-Q"
      },
      "source": [
        "first_clean = [[[i+','+j] for i in stock_dict[j]] for j in stock_dict.keys()]"
      ],
      "execution_count": 15,
      "outputs": []
    },
    {
      "cell_type": "code",
      "metadata": {
        "id": "rQwLT1TMjgHN"
      },
      "source": [
        "data_flatten = [k.split(',') for i in first_clean for j in i for k in j]"
      ],
      "execution_count": 16,
      "outputs": []
    },
    {
      "cell_type": "code",
      "metadata": {
        "colab": {
          "base_uri": "https://localhost:8080/"
        },
        "id": "M2fyTakhjgPv",
        "outputId": "b4037cbf-6703-4f75-c871-c2ab1348ed30"
      },
      "source": [
        "data_flatten[:5]"
      ],
      "execution_count": 17,
      "outputs": [
        {
          "output_type": "execute_result",
          "data": {
            "text/plain": [
              "[['2016-03-09',\n",
              "  '25.327499',\n",
              "  '25.395000',\n",
              "  '25.067499',\n",
              "  '25.280001',\n",
              "  '23.513155',\n",
              "  '108806800',\n",
              "  'AAPL'],\n",
              " ['2016-03-10',\n",
              "  '25.352501',\n",
              "  '25.559999',\n",
              "  '25.037500',\n",
              "  '25.292500',\n",
              "  '23.524775',\n",
              "  '134054400',\n",
              "  'AAPL'],\n",
              " ['2016-03-11',\n",
              "  '25.559999',\n",
              "  '25.570000',\n",
              "  '25.375000',\n",
              "  '25.565001',\n",
              "  '23.778234',\n",
              "  '109632800',\n",
              "  'AAPL'],\n",
              " ['2016-03-14',\n",
              "  '25.477501',\n",
              "  '25.727501',\n",
              "  '25.445000',\n",
              "  '25.629999',\n",
              "  '23.838688',\n",
              "  '100304400',\n",
              "  'AAPL'],\n",
              " ['2016-03-15',\n",
              "  '25.990000',\n",
              "  '26.295000',\n",
              "  '25.962500',\n",
              "  '26.145000',\n",
              "  '24.317701',\n",
              "  '160270800',\n",
              "  'AAPL']]"
            ]
          },
          "metadata": {
            "tags": []
          },
          "execution_count": 17
        }
      ]
    },
    {
      "cell_type": "code",
      "metadata": {
        "colab": {
          "base_uri": "https://localhost:8080/"
        },
        "id": "yFL0s3Whjgap",
        "outputId": "8c14a4a7-c997-4a5c-e386-028c64495819"
      },
      "source": [
        "data_flatten[:5]"
      ],
      "execution_count": 18,
      "outputs": [
        {
          "output_type": "execute_result",
          "data": {
            "text/plain": [
              "[['2016-03-09',\n",
              "  '25.327499',\n",
              "  '25.395000',\n",
              "  '25.067499',\n",
              "  '25.280001',\n",
              "  '23.513155',\n",
              "  '108806800',\n",
              "  'AAPL'],\n",
              " ['2016-03-10',\n",
              "  '25.352501',\n",
              "  '25.559999',\n",
              "  '25.037500',\n",
              "  '25.292500',\n",
              "  '23.524775',\n",
              "  '134054400',\n",
              "  'AAPL'],\n",
              " ['2016-03-11',\n",
              "  '25.559999',\n",
              "  '25.570000',\n",
              "  '25.375000',\n",
              "  '25.565001',\n",
              "  '23.778234',\n",
              "  '109632800',\n",
              "  'AAPL'],\n",
              " ['2016-03-14',\n",
              "  '25.477501',\n",
              "  '25.727501',\n",
              "  '25.445000',\n",
              "  '25.629999',\n",
              "  '23.838688',\n",
              "  '100304400',\n",
              "  'AAPL'],\n",
              " ['2016-03-15',\n",
              "  '25.990000',\n",
              "  '26.295000',\n",
              "  '25.962500',\n",
              "  '26.145000',\n",
              "  '24.317701',\n",
              "  '160270800',\n",
              "  'AAPL']]"
            ]
          },
          "metadata": {
            "tags": []
          },
          "execution_count": 18
        }
      ]
    },
    {
      "cell_type": "code",
      "metadata": {
        "id": "e98cMKUmjuJH"
      },
      "source": [
        "colum = ['Date,Open,High,Low,Close,Adj Close,Volume'][0].split(',') + ['Company']"
      ],
      "execution_count": 19,
      "outputs": []
    },
    {
      "cell_type": "code",
      "metadata": {
        "id": "bxJDy5q_juSf"
      },
      "source": [
        "df = pd.DataFrame(data=data_flatten,columns=colum)"
      ],
      "execution_count": 20,
      "outputs": []
    },
    {
      "cell_type": "code",
      "metadata": {
        "colab": {
          "base_uri": "https://localhost:8080/",
          "height": 35
        },
        "id": "r7d5ekP1u3Cu",
        "outputId": "7f35363d-c2ef-4a24-fb12-9d7671d56951"
      },
      "source": [
        "df.Date[0]"
      ],
      "execution_count": 21,
      "outputs": [
        {
          "output_type": "execute_result",
          "data": {
            "application/vnd.google.colaboratory.intrinsic+json": {
              "type": "string"
            },
            "text/plain": [
              "'2016-03-09'"
            ]
          },
          "metadata": {
            "tags": []
          },
          "execution_count": 21
        }
      ]
    },
    {
      "cell_type": "code",
      "metadata": {
        "colab": {
          "base_uri": "https://localhost:8080/",
          "height": 195
        },
        "id": "UVkmDt0Wjum_",
        "outputId": "4fe2100f-16c5-4cbe-800d-8e1813c41f03"
      },
      "source": [
        "df.head()"
      ],
      "execution_count": 24,
      "outputs": [
        {
          "output_type": "execute_result",
          "data": {
            "text/html": [
              "<div>\n",
              "<style scoped>\n",
              "    .dataframe tbody tr th:only-of-type {\n",
              "        vertical-align: middle;\n",
              "    }\n",
              "\n",
              "    .dataframe tbody tr th {\n",
              "        vertical-align: top;\n",
              "    }\n",
              "\n",
              "    .dataframe thead th {\n",
              "        text-align: right;\n",
              "    }\n",
              "</style>\n",
              "<table border=\"1\" class=\"dataframe\">\n",
              "  <thead>\n",
              "    <tr style=\"text-align: right;\">\n",
              "      <th></th>\n",
              "      <th>Date</th>\n",
              "      <th>Open</th>\n",
              "      <th>High</th>\n",
              "      <th>Low</th>\n",
              "      <th>Close</th>\n",
              "      <th>Adj Close</th>\n",
              "      <th>Volume</th>\n",
              "      <th>Company</th>\n",
              "    </tr>\n",
              "  </thead>\n",
              "  <tbody>\n",
              "    <tr>\n",
              "      <th>0</th>\n",
              "      <td>2016-03-09</td>\n",
              "      <td>25.327499</td>\n",
              "      <td>25.395000</td>\n",
              "      <td>25.067499</td>\n",
              "      <td>25.280001</td>\n",
              "      <td>23.513155</td>\n",
              "      <td>108806800</td>\n",
              "      <td>AAPL</td>\n",
              "    </tr>\n",
              "    <tr>\n",
              "      <th>1</th>\n",
              "      <td>2016-03-10</td>\n",
              "      <td>25.352501</td>\n",
              "      <td>25.559999</td>\n",
              "      <td>25.037500</td>\n",
              "      <td>25.292500</td>\n",
              "      <td>23.524775</td>\n",
              "      <td>134054400</td>\n",
              "      <td>AAPL</td>\n",
              "    </tr>\n",
              "    <tr>\n",
              "      <th>2</th>\n",
              "      <td>2016-03-11</td>\n",
              "      <td>25.559999</td>\n",
              "      <td>25.570000</td>\n",
              "      <td>25.375000</td>\n",
              "      <td>25.565001</td>\n",
              "      <td>23.778234</td>\n",
              "      <td>109632800</td>\n",
              "      <td>AAPL</td>\n",
              "    </tr>\n",
              "    <tr>\n",
              "      <th>3</th>\n",
              "      <td>2016-03-14</td>\n",
              "      <td>25.477501</td>\n",
              "      <td>25.727501</td>\n",
              "      <td>25.445000</td>\n",
              "      <td>25.629999</td>\n",
              "      <td>23.838688</td>\n",
              "      <td>100304400</td>\n",
              "      <td>AAPL</td>\n",
              "    </tr>\n",
              "    <tr>\n",
              "      <th>4</th>\n",
              "      <td>2016-03-15</td>\n",
              "      <td>25.990000</td>\n",
              "      <td>26.295000</td>\n",
              "      <td>25.962500</td>\n",
              "      <td>26.145000</td>\n",
              "      <td>24.317701</td>\n",
              "      <td>160270800</td>\n",
              "      <td>AAPL</td>\n",
              "    </tr>\n",
              "  </tbody>\n",
              "</table>\n",
              "</div>"
            ],
            "text/plain": [
              "         Date       Open       High  ...  Adj Close     Volume Company\n",
              "0  2016-03-09  25.327499  25.395000  ...  23.513155  108806800    AAPL\n",
              "1  2016-03-10  25.352501  25.559999  ...  23.524775  134054400    AAPL\n",
              "2  2016-03-11  25.559999  25.570000  ...  23.778234  109632800    AAPL\n",
              "3  2016-03-14  25.477501  25.727501  ...  23.838688  100304400    AAPL\n",
              "4  2016-03-15  25.990000  26.295000  ...  24.317701  160270800    AAPL\n",
              "\n",
              "[5 rows x 8 columns]"
            ]
          },
          "metadata": {
            "tags": []
          },
          "execution_count": 24
        }
      ]
    },
    {
      "cell_type": "code",
      "metadata": {
        "colab": {
          "base_uri": "https://localhost:8080/"
        },
        "id": "ntq0Upb8yapZ",
        "outputId": "b4e21c39-e48a-44d9-898e-89e64b9ef21c"
      },
      "source": [
        "df.columns"
      ],
      "execution_count": 25,
      "outputs": [
        {
          "output_type": "execute_result",
          "data": {
            "text/plain": [
              "Index(['Date', 'Open', 'High', 'Low', 'Close', 'Adj Close', 'Volume',\n",
              "       'Company'],\n",
              "      dtype='object')"
            ]
          },
          "metadata": {
            "tags": []
          },
          "execution_count": 25
        }
      ]
    },
    {
      "cell_type": "code",
      "metadata": {
        "colab": {
          "base_uri": "https://localhost:8080/",
          "height": 35
        },
        "id": "V2BbbaMVwrzt",
        "outputId": "06890423-f759-4716-e3f5-ee5933311180"
      },
      "source": [
        "df.Date[0]"
      ],
      "execution_count": 26,
      "outputs": [
        {
          "output_type": "execute_result",
          "data": {
            "application/vnd.google.colaboratory.intrinsic+json": {
              "type": "string"
            },
            "text/plain": [
              "'2016-03-09'"
            ]
          },
          "metadata": {
            "tags": []
          },
          "execution_count": 26
        }
      ]
    },
    {
      "cell_type": "code",
      "metadata": {
        "id": "xGcyHyLKjuxd"
      },
      "source": [
        "#df.to_csv('stockPriceXL-NEW.csv')"
      ],
      "execution_count": 27,
      "outputs": []
    },
    {
      "cell_type": "code",
      "metadata": {
        "id": "Haob5IUwy9kh"
      },
      "source": [
        "data = [[df.loc[df['Company']=='AAPL']['Date']],[df.loc[df['Company']=='AAPL']['Close']]]"
      ],
      "execution_count": 28,
      "outputs": []
    },
    {
      "cell_type": "code",
      "metadata": {
        "colab": {
          "base_uri": "https://localhost:8080/"
        },
        "id": "DG4TbJOEzazY",
        "outputId": "e427a5c1-651c-4e0d-db20-b7b173e1c5ef"
      },
      "source": [
        "data"
      ],
      "execution_count": 29,
      "outputs": [
        {
          "output_type": "execute_result",
          "data": {
            "text/plain": [
              "[[0       2016-03-09\n",
              "  1       2016-03-10\n",
              "  2       2016-03-11\n",
              "  3       2016-03-14\n",
              "  4       2016-03-15\n",
              "             ...    \n",
              "  1253    2021-03-02\n",
              "  1254    2021-03-03\n",
              "  1255    2021-03-04\n",
              "  1256    2021-03-05\n",
              "  1257    2021-03-08\n",
              "  Name: Date, Length: 1258, dtype: object], [0        25.280001\n",
              "  1        25.292500\n",
              "  2        25.565001\n",
              "  3        25.629999\n",
              "  4        26.145000\n",
              "             ...    \n",
              "  1253    125.120003\n",
              "  1254    122.059998\n",
              "  1255    120.129997\n",
              "  1256    121.419998\n",
              "  1257    116.360001\n",
              "  Name: Close, Length: 1258, dtype: object]]"
            ]
          },
          "metadata": {
            "tags": []
          },
          "execution_count": 29
        }
      ]
    },
    {
      "cell_type": "code",
      "metadata": {
        "id": "gTcumifFjvFg"
      },
      "source": [
        "df_aapl = df.loc[df['Company']=='AAPL'][['Date','Close']]"
      ],
      "execution_count": 38,
      "outputs": []
    },
    {
      "cell_type": "code",
      "metadata": {
        "colab": {
          "base_uri": "https://localhost:8080/",
          "height": 402
        },
        "id": "ClAFyePlzroD",
        "outputId": "04ea756f-b325-4120-ec13-7381004ad5be"
      },
      "source": [
        "df_aapl"
      ],
      "execution_count": 39,
      "outputs": [
        {
          "output_type": "execute_result",
          "data": {
            "text/html": [
              "<div>\n",
              "<style scoped>\n",
              "    .dataframe tbody tr th:only-of-type {\n",
              "        vertical-align: middle;\n",
              "    }\n",
              "\n",
              "    .dataframe tbody tr th {\n",
              "        vertical-align: top;\n",
              "    }\n",
              "\n",
              "    .dataframe thead th {\n",
              "        text-align: right;\n",
              "    }\n",
              "</style>\n",
              "<table border=\"1\" class=\"dataframe\">\n",
              "  <thead>\n",
              "    <tr style=\"text-align: right;\">\n",
              "      <th></th>\n",
              "      <th>Date</th>\n",
              "      <th>Close</th>\n",
              "    </tr>\n",
              "  </thead>\n",
              "  <tbody>\n",
              "    <tr>\n",
              "      <th>0</th>\n",
              "      <td>2016-03-09</td>\n",
              "      <td>25.280001</td>\n",
              "    </tr>\n",
              "    <tr>\n",
              "      <th>1</th>\n",
              "      <td>2016-03-10</td>\n",
              "      <td>25.292500</td>\n",
              "    </tr>\n",
              "    <tr>\n",
              "      <th>2</th>\n",
              "      <td>2016-03-11</td>\n",
              "      <td>25.565001</td>\n",
              "    </tr>\n",
              "    <tr>\n",
              "      <th>3</th>\n",
              "      <td>2016-03-14</td>\n",
              "      <td>25.629999</td>\n",
              "    </tr>\n",
              "    <tr>\n",
              "      <th>4</th>\n",
              "      <td>2016-03-15</td>\n",
              "      <td>26.145000</td>\n",
              "    </tr>\n",
              "    <tr>\n",
              "      <th>...</th>\n",
              "      <td>...</td>\n",
              "      <td>...</td>\n",
              "    </tr>\n",
              "    <tr>\n",
              "      <th>1253</th>\n",
              "      <td>2021-03-02</td>\n",
              "      <td>125.120003</td>\n",
              "    </tr>\n",
              "    <tr>\n",
              "      <th>1254</th>\n",
              "      <td>2021-03-03</td>\n",
              "      <td>122.059998</td>\n",
              "    </tr>\n",
              "    <tr>\n",
              "      <th>1255</th>\n",
              "      <td>2021-03-04</td>\n",
              "      <td>120.129997</td>\n",
              "    </tr>\n",
              "    <tr>\n",
              "      <th>1256</th>\n",
              "      <td>2021-03-05</td>\n",
              "      <td>121.419998</td>\n",
              "    </tr>\n",
              "    <tr>\n",
              "      <th>1257</th>\n",
              "      <td>2021-03-08</td>\n",
              "      <td>116.360001</td>\n",
              "    </tr>\n",
              "  </tbody>\n",
              "</table>\n",
              "<p>1258 rows × 2 columns</p>\n",
              "</div>"
            ],
            "text/plain": [
              "            Date       Close\n",
              "0     2016-03-09   25.280001\n",
              "1     2016-03-10   25.292500\n",
              "2     2016-03-11   25.565001\n",
              "3     2016-03-14   25.629999\n",
              "4     2016-03-15   26.145000\n",
              "...          ...         ...\n",
              "1253  2021-03-02  125.120003\n",
              "1254  2021-03-03  122.059998\n",
              "1255  2021-03-04  120.129997\n",
              "1256  2021-03-05  121.419998\n",
              "1257  2021-03-08  116.360001\n",
              "\n",
              "[1258 rows x 2 columns]"
            ]
          },
          "metadata": {
            "tags": []
          },
          "execution_count": 39
        }
      ]
    },
    {
      "cell_type": "code",
      "metadata": {
        "colab": {
          "base_uri": "https://localhost:8080/",
          "height": 402
        },
        "id": "DI6k-r9BxX7J",
        "outputId": "5f260380-43a1-4c5a-d79f-e41704951c27"
      },
      "source": [
        "df_aapl"
      ],
      "execution_count": 40,
      "outputs": [
        {
          "output_type": "execute_result",
          "data": {
            "text/html": [
              "<div>\n",
              "<style scoped>\n",
              "    .dataframe tbody tr th:only-of-type {\n",
              "        vertical-align: middle;\n",
              "    }\n",
              "\n",
              "    .dataframe tbody tr th {\n",
              "        vertical-align: top;\n",
              "    }\n",
              "\n",
              "    .dataframe thead th {\n",
              "        text-align: right;\n",
              "    }\n",
              "</style>\n",
              "<table border=\"1\" class=\"dataframe\">\n",
              "  <thead>\n",
              "    <tr style=\"text-align: right;\">\n",
              "      <th></th>\n",
              "      <th>Date</th>\n",
              "      <th>Close</th>\n",
              "    </tr>\n",
              "  </thead>\n",
              "  <tbody>\n",
              "    <tr>\n",
              "      <th>0</th>\n",
              "      <td>2016-03-09</td>\n",
              "      <td>25.280001</td>\n",
              "    </tr>\n",
              "    <tr>\n",
              "      <th>1</th>\n",
              "      <td>2016-03-10</td>\n",
              "      <td>25.292500</td>\n",
              "    </tr>\n",
              "    <tr>\n",
              "      <th>2</th>\n",
              "      <td>2016-03-11</td>\n",
              "      <td>25.565001</td>\n",
              "    </tr>\n",
              "    <tr>\n",
              "      <th>3</th>\n",
              "      <td>2016-03-14</td>\n",
              "      <td>25.629999</td>\n",
              "    </tr>\n",
              "    <tr>\n",
              "      <th>4</th>\n",
              "      <td>2016-03-15</td>\n",
              "      <td>26.145000</td>\n",
              "    </tr>\n",
              "    <tr>\n",
              "      <th>...</th>\n",
              "      <td>...</td>\n",
              "      <td>...</td>\n",
              "    </tr>\n",
              "    <tr>\n",
              "      <th>1253</th>\n",
              "      <td>2021-03-02</td>\n",
              "      <td>125.120003</td>\n",
              "    </tr>\n",
              "    <tr>\n",
              "      <th>1254</th>\n",
              "      <td>2021-03-03</td>\n",
              "      <td>122.059998</td>\n",
              "    </tr>\n",
              "    <tr>\n",
              "      <th>1255</th>\n",
              "      <td>2021-03-04</td>\n",
              "      <td>120.129997</td>\n",
              "    </tr>\n",
              "    <tr>\n",
              "      <th>1256</th>\n",
              "      <td>2021-03-05</td>\n",
              "      <td>121.419998</td>\n",
              "    </tr>\n",
              "    <tr>\n",
              "      <th>1257</th>\n",
              "      <td>2021-03-08</td>\n",
              "      <td>116.360001</td>\n",
              "    </tr>\n",
              "  </tbody>\n",
              "</table>\n",
              "<p>1258 rows × 2 columns</p>\n",
              "</div>"
            ],
            "text/plain": [
              "            Date       Close\n",
              "0     2016-03-09   25.280001\n",
              "1     2016-03-10   25.292500\n",
              "2     2016-03-11   25.565001\n",
              "3     2016-03-14   25.629999\n",
              "4     2016-03-15   26.145000\n",
              "...          ...         ...\n",
              "1253  2021-03-02  125.120003\n",
              "1254  2021-03-03  122.059998\n",
              "1255  2021-03-04  120.129997\n",
              "1256  2021-03-05  121.419998\n",
              "1257  2021-03-08  116.360001\n",
              "\n",
              "[1258 rows x 2 columns]"
            ]
          },
          "metadata": {
            "tags": []
          },
          "execution_count": 40
        }
      ]
    },
    {
      "cell_type": "code",
      "metadata": {
        "id": "UioN7BU8ladW"
      },
      "source": [
        "df_aapl.columns = ['ds','y']"
      ],
      "execution_count": 41,
      "outputs": []
    },
    {
      "cell_type": "code",
      "metadata": {
        "colab": {
          "base_uri": "https://localhost:8080/",
          "height": 402
        },
        "id": "yjZpWBmM00rB",
        "outputId": "df7dd8b7-e99f-4e11-bd81-28dbb52585ed"
      },
      "source": [
        "df_aapl"
      ],
      "execution_count": 42,
      "outputs": [
        {
          "output_type": "execute_result",
          "data": {
            "text/html": [
              "<div>\n",
              "<style scoped>\n",
              "    .dataframe tbody tr th:only-of-type {\n",
              "        vertical-align: middle;\n",
              "    }\n",
              "\n",
              "    .dataframe tbody tr th {\n",
              "        vertical-align: top;\n",
              "    }\n",
              "\n",
              "    .dataframe thead th {\n",
              "        text-align: right;\n",
              "    }\n",
              "</style>\n",
              "<table border=\"1\" class=\"dataframe\">\n",
              "  <thead>\n",
              "    <tr style=\"text-align: right;\">\n",
              "      <th></th>\n",
              "      <th>ds</th>\n",
              "      <th>y</th>\n",
              "    </tr>\n",
              "  </thead>\n",
              "  <tbody>\n",
              "    <tr>\n",
              "      <th>0</th>\n",
              "      <td>2016-03-09</td>\n",
              "      <td>25.280001</td>\n",
              "    </tr>\n",
              "    <tr>\n",
              "      <th>1</th>\n",
              "      <td>2016-03-10</td>\n",
              "      <td>25.292500</td>\n",
              "    </tr>\n",
              "    <tr>\n",
              "      <th>2</th>\n",
              "      <td>2016-03-11</td>\n",
              "      <td>25.565001</td>\n",
              "    </tr>\n",
              "    <tr>\n",
              "      <th>3</th>\n",
              "      <td>2016-03-14</td>\n",
              "      <td>25.629999</td>\n",
              "    </tr>\n",
              "    <tr>\n",
              "      <th>4</th>\n",
              "      <td>2016-03-15</td>\n",
              "      <td>26.145000</td>\n",
              "    </tr>\n",
              "    <tr>\n",
              "      <th>...</th>\n",
              "      <td>...</td>\n",
              "      <td>...</td>\n",
              "    </tr>\n",
              "    <tr>\n",
              "      <th>1253</th>\n",
              "      <td>2021-03-02</td>\n",
              "      <td>125.120003</td>\n",
              "    </tr>\n",
              "    <tr>\n",
              "      <th>1254</th>\n",
              "      <td>2021-03-03</td>\n",
              "      <td>122.059998</td>\n",
              "    </tr>\n",
              "    <tr>\n",
              "      <th>1255</th>\n",
              "      <td>2021-03-04</td>\n",
              "      <td>120.129997</td>\n",
              "    </tr>\n",
              "    <tr>\n",
              "      <th>1256</th>\n",
              "      <td>2021-03-05</td>\n",
              "      <td>121.419998</td>\n",
              "    </tr>\n",
              "    <tr>\n",
              "      <th>1257</th>\n",
              "      <td>2021-03-08</td>\n",
              "      <td>116.360001</td>\n",
              "    </tr>\n",
              "  </tbody>\n",
              "</table>\n",
              "<p>1258 rows × 2 columns</p>\n",
              "</div>"
            ],
            "text/plain": [
              "              ds           y\n",
              "0     2016-03-09   25.280001\n",
              "1     2016-03-10   25.292500\n",
              "2     2016-03-11   25.565001\n",
              "3     2016-03-14   25.629999\n",
              "4     2016-03-15   26.145000\n",
              "...          ...         ...\n",
              "1253  2021-03-02  125.120003\n",
              "1254  2021-03-03  122.059998\n",
              "1255  2021-03-04  120.129997\n",
              "1256  2021-03-05  121.419998\n",
              "1257  2021-03-08  116.360001\n",
              "\n",
              "[1258 rows x 2 columns]"
            ]
          },
          "metadata": {
            "tags": []
          },
          "execution_count": 42
        }
      ]
    },
    {
      "cell_type": "code",
      "metadata": {
        "id": "MeDWytPXmra4"
      },
      "source": [
        "m = Prophet()"
      ],
      "execution_count": 43,
      "outputs": []
    },
    {
      "cell_type": "code",
      "metadata": {
        "colab": {
          "base_uri": "https://localhost:8080/"
        },
        "id": "hVhfyEatnEnc",
        "outputId": "f6554d0b-77a7-4d93-e3c8-bd8c5603e035"
      },
      "source": [
        "m.fit(df_aapl)"
      ],
      "execution_count": 44,
      "outputs": [
        {
          "output_type": "stream",
          "text": [
            "INFO:numexpr.utils:NumExpr defaulting to 2 threads.\n",
            "INFO:fbprophet:Disabling daily seasonality. Run prophet with daily_seasonality=True to override this.\n"
          ],
          "name": "stderr"
        },
        {
          "output_type": "execute_result",
          "data": {
            "text/plain": [
              "<fbprophet.forecaster.Prophet at 0x7f0ff801ded0>"
            ]
          },
          "metadata": {
            "tags": []
          },
          "execution_count": 44
        }
      ]
    },
    {
      "cell_type": "code",
      "metadata": {
        "colab": {
          "base_uri": "https://localhost:8080/",
          "height": 639
        },
        "id": "5L5FDOOFnHP4",
        "outputId": "9361dbe7-56f7-4d64-e1b8-15fd061dd9e8"
      },
      "source": [
        "future = m.make_future_dataframe(periods=15)\r\n",
        "future.tail(20)"
      ],
      "execution_count": 46,
      "outputs": [
        {
          "output_type": "execute_result",
          "data": {
            "text/html": [
              "<div>\n",
              "<style scoped>\n",
              "    .dataframe tbody tr th:only-of-type {\n",
              "        vertical-align: middle;\n",
              "    }\n",
              "\n",
              "    .dataframe tbody tr th {\n",
              "        vertical-align: top;\n",
              "    }\n",
              "\n",
              "    .dataframe thead th {\n",
              "        text-align: right;\n",
              "    }\n",
              "</style>\n",
              "<table border=\"1\" class=\"dataframe\">\n",
              "  <thead>\n",
              "    <tr style=\"text-align: right;\">\n",
              "      <th></th>\n",
              "      <th>ds</th>\n",
              "    </tr>\n",
              "  </thead>\n",
              "  <tbody>\n",
              "    <tr>\n",
              "      <th>1253</th>\n",
              "      <td>2021-03-02</td>\n",
              "    </tr>\n",
              "    <tr>\n",
              "      <th>1254</th>\n",
              "      <td>2021-03-03</td>\n",
              "    </tr>\n",
              "    <tr>\n",
              "      <th>1255</th>\n",
              "      <td>2021-03-04</td>\n",
              "    </tr>\n",
              "    <tr>\n",
              "      <th>1256</th>\n",
              "      <td>2021-03-05</td>\n",
              "    </tr>\n",
              "    <tr>\n",
              "      <th>1257</th>\n",
              "      <td>2021-03-08</td>\n",
              "    </tr>\n",
              "    <tr>\n",
              "      <th>1258</th>\n",
              "      <td>2021-03-09</td>\n",
              "    </tr>\n",
              "    <tr>\n",
              "      <th>1259</th>\n",
              "      <td>2021-03-10</td>\n",
              "    </tr>\n",
              "    <tr>\n",
              "      <th>1260</th>\n",
              "      <td>2021-03-11</td>\n",
              "    </tr>\n",
              "    <tr>\n",
              "      <th>1261</th>\n",
              "      <td>2021-03-12</td>\n",
              "    </tr>\n",
              "    <tr>\n",
              "      <th>1262</th>\n",
              "      <td>2021-03-13</td>\n",
              "    </tr>\n",
              "    <tr>\n",
              "      <th>1263</th>\n",
              "      <td>2021-03-14</td>\n",
              "    </tr>\n",
              "    <tr>\n",
              "      <th>1264</th>\n",
              "      <td>2021-03-15</td>\n",
              "    </tr>\n",
              "    <tr>\n",
              "      <th>1265</th>\n",
              "      <td>2021-03-16</td>\n",
              "    </tr>\n",
              "    <tr>\n",
              "      <th>1266</th>\n",
              "      <td>2021-03-17</td>\n",
              "    </tr>\n",
              "    <tr>\n",
              "      <th>1267</th>\n",
              "      <td>2021-03-18</td>\n",
              "    </tr>\n",
              "    <tr>\n",
              "      <th>1268</th>\n",
              "      <td>2021-03-19</td>\n",
              "    </tr>\n",
              "    <tr>\n",
              "      <th>1269</th>\n",
              "      <td>2021-03-20</td>\n",
              "    </tr>\n",
              "    <tr>\n",
              "      <th>1270</th>\n",
              "      <td>2021-03-21</td>\n",
              "    </tr>\n",
              "    <tr>\n",
              "      <th>1271</th>\n",
              "      <td>2021-03-22</td>\n",
              "    </tr>\n",
              "    <tr>\n",
              "      <th>1272</th>\n",
              "      <td>2021-03-23</td>\n",
              "    </tr>\n",
              "  </tbody>\n",
              "</table>\n",
              "</div>"
            ],
            "text/plain": [
              "             ds\n",
              "1253 2021-03-02\n",
              "1254 2021-03-03\n",
              "1255 2021-03-04\n",
              "1256 2021-03-05\n",
              "1257 2021-03-08\n",
              "1258 2021-03-09\n",
              "1259 2021-03-10\n",
              "1260 2021-03-11\n",
              "1261 2021-03-12\n",
              "1262 2021-03-13\n",
              "1263 2021-03-14\n",
              "1264 2021-03-15\n",
              "1265 2021-03-16\n",
              "1266 2021-03-17\n",
              "1267 2021-03-18\n",
              "1268 2021-03-19\n",
              "1269 2021-03-20\n",
              "1270 2021-03-21\n",
              "1271 2021-03-22\n",
              "1272 2021-03-23"
            ]
          },
          "metadata": {
            "tags": []
          },
          "execution_count": 46
        }
      ]
    },
    {
      "cell_type": "code",
      "metadata": {
        "colab": {
          "base_uri": "https://localhost:8080/",
          "height": 639
        },
        "id": "TMEuvJA41L4f",
        "outputId": "3de112a7-513c-4aee-e874-654b30071c16"
      },
      "source": [
        "forecast = m.predict(future)\r\n",
        "forecast[['ds', 'yhat', 'yhat_lower', 'yhat_upper']].tail(20)"
      ],
      "execution_count": 47,
      "outputs": [
        {
          "output_type": "execute_result",
          "data": {
            "text/html": [
              "<div>\n",
              "<style scoped>\n",
              "    .dataframe tbody tr th:only-of-type {\n",
              "        vertical-align: middle;\n",
              "    }\n",
              "\n",
              "    .dataframe tbody tr th {\n",
              "        vertical-align: top;\n",
              "    }\n",
              "\n",
              "    .dataframe thead th {\n",
              "        text-align: right;\n",
              "    }\n",
              "</style>\n",
              "<table border=\"1\" class=\"dataframe\">\n",
              "  <thead>\n",
              "    <tr style=\"text-align: right;\">\n",
              "      <th></th>\n",
              "      <th>ds</th>\n",
              "      <th>yhat</th>\n",
              "      <th>yhat_lower</th>\n",
              "      <th>yhat_upper</th>\n",
              "    </tr>\n",
              "  </thead>\n",
              "  <tbody>\n",
              "    <tr>\n",
              "      <th>1253</th>\n",
              "      <td>2021-03-02</td>\n",
              "      <td>134.225448</td>\n",
              "      <td>128.722613</td>\n",
              "      <td>139.981304</td>\n",
              "    </tr>\n",
              "    <tr>\n",
              "      <th>1254</th>\n",
              "      <td>2021-03-03</td>\n",
              "      <td>134.271483</td>\n",
              "      <td>128.842775</td>\n",
              "      <td>139.399559</td>\n",
              "    </tr>\n",
              "    <tr>\n",
              "      <th>1255</th>\n",
              "      <td>2021-03-04</td>\n",
              "      <td>134.258075</td>\n",
              "      <td>128.997060</td>\n",
              "      <td>139.391203</td>\n",
              "    </tr>\n",
              "    <tr>\n",
              "      <th>1256</th>\n",
              "      <td>2021-03-05</td>\n",
              "      <td>134.173722</td>\n",
              "      <td>128.507165</td>\n",
              "      <td>139.538080</td>\n",
              "    </tr>\n",
              "    <tr>\n",
              "      <th>1257</th>\n",
              "      <td>2021-03-08</td>\n",
              "      <td>134.489282</td>\n",
              "      <td>128.729105</td>\n",
              "      <td>140.161869</td>\n",
              "    </tr>\n",
              "    <tr>\n",
              "      <th>1258</th>\n",
              "      <td>2021-03-09</td>\n",
              "      <td>134.795605</td>\n",
              "      <td>128.855122</td>\n",
              "      <td>140.031614</td>\n",
              "    </tr>\n",
              "    <tr>\n",
              "      <th>1259</th>\n",
              "      <td>2021-03-10</td>\n",
              "      <td>134.887205</td>\n",
              "      <td>129.189943</td>\n",
              "      <td>140.059635</td>\n",
              "    </tr>\n",
              "    <tr>\n",
              "      <th>1260</th>\n",
              "      <td>2021-03-11</td>\n",
              "      <td>134.917302</td>\n",
              "      <td>129.319415</td>\n",
              "      <td>140.288451</td>\n",
              "    </tr>\n",
              "    <tr>\n",
              "      <th>1261</th>\n",
              "      <td>2021-03-12</td>\n",
              "      <td>134.874745</td>\n",
              "      <td>129.797801</td>\n",
              "      <td>139.954243</td>\n",
              "    </tr>\n",
              "    <tr>\n",
              "      <th>1262</th>\n",
              "      <td>2021-03-13</td>\n",
              "      <td>132.486219</td>\n",
              "      <td>127.073930</td>\n",
              "      <td>137.749579</td>\n",
              "    </tr>\n",
              "    <tr>\n",
              "      <th>1263</th>\n",
              "      <td>2021-03-14</td>\n",
              "      <td>132.614348</td>\n",
              "      <td>127.420607</td>\n",
              "      <td>138.026249</td>\n",
              "    </tr>\n",
              "    <tr>\n",
              "      <th>1264</th>\n",
              "      <td>2021-03-15</td>\n",
              "      <td>135.309353</td>\n",
              "      <td>129.625022</td>\n",
              "      <td>140.717450</td>\n",
              "    </tr>\n",
              "    <tr>\n",
              "      <th>1265</th>\n",
              "      <td>2021-03-16</td>\n",
              "      <td>135.654521</td>\n",
              "      <td>130.368774</td>\n",
              "      <td>141.314454</td>\n",
              "    </tr>\n",
              "    <tr>\n",
              "      <th>1266</th>\n",
              "      <td>2021-03-17</td>\n",
              "      <td>135.785092</td>\n",
              "      <td>130.606716</td>\n",
              "      <td>141.307624</td>\n",
              "    </tr>\n",
              "    <tr>\n",
              "      <th>1267</th>\n",
              "      <td>2021-03-18</td>\n",
              "      <td>135.854520</td>\n",
              "      <td>130.688892</td>\n",
              "      <td>141.666559</td>\n",
              "    </tr>\n",
              "    <tr>\n",
              "      <th>1268</th>\n",
              "      <td>2021-03-19</td>\n",
              "      <td>135.851803</td>\n",
              "      <td>130.455868</td>\n",
              "      <td>141.162275</td>\n",
              "    </tr>\n",
              "    <tr>\n",
              "      <th>1269</th>\n",
              "      <td>2021-03-20</td>\n",
              "      <td>133.503683</td>\n",
              "      <td>127.966122</td>\n",
              "      <td>138.667048</td>\n",
              "    </tr>\n",
              "    <tr>\n",
              "      <th>1270</th>\n",
              "      <td>2021-03-21</td>\n",
              "      <td>133.672745</td>\n",
              "      <td>128.181609</td>\n",
              "      <td>139.008325</td>\n",
              "    </tr>\n",
              "    <tr>\n",
              "      <th>1271</th>\n",
              "      <td>2021-03-22</td>\n",
              "      <td>136.409070</td>\n",
              "      <td>131.132268</td>\n",
              "      <td>141.672497</td>\n",
              "    </tr>\n",
              "    <tr>\n",
              "      <th>1272</th>\n",
              "      <td>2021-03-23</td>\n",
              "      <td>136.795713</td>\n",
              "      <td>131.177148</td>\n",
              "      <td>142.139989</td>\n",
              "    </tr>\n",
              "  </tbody>\n",
              "</table>\n",
              "</div>"
            ],
            "text/plain": [
              "             ds        yhat  yhat_lower  yhat_upper\n",
              "1253 2021-03-02  134.225448  128.722613  139.981304\n",
              "1254 2021-03-03  134.271483  128.842775  139.399559\n",
              "1255 2021-03-04  134.258075  128.997060  139.391203\n",
              "1256 2021-03-05  134.173722  128.507165  139.538080\n",
              "1257 2021-03-08  134.489282  128.729105  140.161869\n",
              "1258 2021-03-09  134.795605  128.855122  140.031614\n",
              "1259 2021-03-10  134.887205  129.189943  140.059635\n",
              "1260 2021-03-11  134.917302  129.319415  140.288451\n",
              "1261 2021-03-12  134.874745  129.797801  139.954243\n",
              "1262 2021-03-13  132.486219  127.073930  137.749579\n",
              "1263 2021-03-14  132.614348  127.420607  138.026249\n",
              "1264 2021-03-15  135.309353  129.625022  140.717450\n",
              "1265 2021-03-16  135.654521  130.368774  141.314454\n",
              "1266 2021-03-17  135.785092  130.606716  141.307624\n",
              "1267 2021-03-18  135.854520  130.688892  141.666559\n",
              "1268 2021-03-19  135.851803  130.455868  141.162275\n",
              "1269 2021-03-20  133.503683  127.966122  138.667048\n",
              "1270 2021-03-21  133.672745  128.181609  139.008325\n",
              "1271 2021-03-22  136.409070  131.132268  141.672497\n",
              "1272 2021-03-23  136.795713  131.177148  142.139989"
            ]
          },
          "metadata": {
            "tags": []
          },
          "execution_count": 47
        }
      ]
    },
    {
      "cell_type": "code",
      "metadata": {
        "colab": {
          "base_uri": "https://localhost:8080/",
          "height": 441
        },
        "id": "pglIAJBW1YDY",
        "outputId": "a00951e6-3cb5-443f-d38b-532012f91c13"
      },
      "source": [
        "fig1 = m.plot(forecast)"
      ],
      "execution_count": 48,
      "outputs": [
        {
          "output_type": "display_data",
          "data": {
            "image/png": "[encoded data removed]",
            "text/plain": [
              "<Figure size 720x432 with 1 Axes>"
            ]
          },
          "metadata": {
            "tags": []
          }
        }
      ]
    },
    {
      "cell_type": "code",
      "metadata": {
        "id": "rTmobbKo1mFN"
      },
      "source": [
        ""
      ],
      "execution_count": null,
      "outputs": []
    }
  ]
}