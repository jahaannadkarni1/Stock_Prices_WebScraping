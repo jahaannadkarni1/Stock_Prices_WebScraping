{
 "cells": [
  {
   "cell_type": "code",
   "execution_count": 35,
   "metadata": {},
   "outputs": [],
   "source": [
    "import requests\n",
    "from bs4 import BeautifulSoup as bs\n",
    "import pandas as pd\n",
    "import numpy as np\n",
    "import matplotlib.pyplot as plt\n",
    "%matplotlib inline"
   ]
  },
  {
   "cell_type": "code",
   "execution_count": 36,
   "metadata": {},
   "outputs": [],
   "source": [
    "def get_url(url):\n",
    "    r = requests.get(url)\n",
    "    soup = bs(r.content,'html.parser')\n",
    "    return soup"
   ]
  },
  {
   "cell_type": "code",
   "execution_count": 37,
   "metadata": {},
   "outputs": [],
   "source": [
    "url = \"https://www.dogsofthedow.com/largest-companies-by-market-cap.htm\"\n",
    "\n",
    "soup = get_url(url)"
   ]
  },
  {
   "cell_type": "code",
   "execution_count": 46,
   "metadata": {},
   "outputs": [],
   "source": [
    "def get_quote():\n",
    "    stock_quotes = []\n",
    "    for i in soup.select('tbody a')[:-1]:\n",
    "        stock_quotes.append(i.get_text().strip())\n",
    "    return stock_quotes"
   ]
  },
  {
   "cell_type": "code",
   "execution_count": 50,
   "metadata": {},
   "outputs": [],
   "source": [
    "def get_stocks():  \n",
    "    stock_dict = {}\n",
    "        \n",
    "    for i in get_quote():\n",
    "        stock_url = 'https://query1.finance.yahoo.com/v7/finance/download/{}?'\n",
    "\n",
    "        params = { 'range' : '5y',\n",
    "               'interval' : '1d',\n",
    "              'events' : 'history',\n",
    "                'includeAdjustedClose' : 'true'}\n",
    "        stock_dict[i] = requests.get(stock_url.format(i),params=params).text.split('\\n')\n",
    "    return stock_dict"
   ]
  },
  {
   "cell_type": "code",
   "execution_count": null,
   "metadata": {},
   "outputs": [],
   "source": []
  },
  {
   "cell_type": "code",
   "execution_count": null,
   "metadata": {},
   "outputs": [],
   "source": []
  },
  {
   "cell_type": "code",
   "execution_count": null,
   "metadata": {},
   "outputs": [],
   "source": []
  },
  {
   "cell_type": "code",
   "execution_count": null,
   "metadata": {},
   "outputs": [],
   "source": []
  },
  {
   "cell_type": "code",
   "execution_count": null,
   "metadata": {},
   "outputs": [],
   "source": []
  }
 ],
 "metadata": {
  "kernelspec": {
   "display_name": "Python 3",
   "language": "python",
   "name": "python3"
  },
  "language_info": {
   "codemirror_mode": {
    "name": "ipython",
    "version": 3
   },
   "file_extension": ".py",
   "mimetype": "text/x-python",
   "name": "python",
   "nbconvert_exporter": "python",
   "pygments_lexer": "ipython3",
   "version": "3.8.3"
  }
 },
 "nbformat": 4,
 "nbformat_minor": 4
}
